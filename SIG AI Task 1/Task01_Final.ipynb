{
 "cells": [
  {
   "cell_type": "code",
   "execution_count": 1,
   "id": "0d43da83",
   "metadata": {},
   "outputs": [
    {
     "name": "stdout",
     "output_type": "stream",
     "text": [
      "               No      Pclass         Age       SibSp       Parch        Fare\n",
      "count  891.000000  891.000000  714.000000  891.000000  891.000000  891.000000\n",
      "mean   446.000000    2.308642   29.699118    0.523008    0.381594   32.204208\n",
      "std    257.353842    0.836071   14.526497    1.102743    0.806057   49.693429\n",
      "min      1.000000    1.000000    0.420000    0.000000    0.000000    0.000000\n",
      "25%    223.500000    2.000000   20.125000    0.000000    0.000000    7.910400\n",
      "50%    446.000000    3.000000   28.000000    0.000000    0.000000   14.454200\n",
      "75%    668.500000    3.000000   38.000000    1.000000    0.000000   31.000000\n",
      "max    891.000000    3.000000   80.000000    8.000000    6.000000  512.329200\n",
      "<class 'pandas.core.frame.DataFrame'>\n",
      "RangeIndex: 891 entries, 0 to 890\n",
      "Data columns (total 12 columns):\n",
      " #   Column    Non-Null Count  Dtype  \n",
      "---  ------    --------------  -----  \n",
      " 0   No        891 non-null    int64  \n",
      " 1   Survived  891 non-null    object \n",
      " 2   Pclass    891 non-null    int64  \n",
      " 3   Name      891 non-null    object \n",
      " 4   Sex       891 non-null    object \n",
      " 5   Age       714 non-null    float64\n",
      " 6   SibSp     891 non-null    int64  \n",
      " 7   Parch     891 non-null    int64  \n",
      " 8   Ticket    891 non-null    object \n",
      " 9   Fare      891 non-null    float64\n",
      " 10  Cabin     204 non-null    object \n",
      " 11  Embarked  889 non-null    object \n",
      "dtypes: float64(2), int64(4), object(6)\n",
      "memory usage: 83.7+ KB\n",
      "None\n"
     ]
    },
    {
     "data": {
      "image/png": "[encoded data removed]",
      "text/plain": [
       "<Figure size 640x480 with 1 Axes>"
      ]
     },
     "metadata": {},
     "output_type": "display_data"
    }
   ],
   "source": [
    "import pandas as pnd\n",
    "import matplotlib.pyplot as plot\n",
    "\n",
    "dt = pnd.read_csv('dataset.csv')\n",
    "print(dt.describe())\n",
    "print(dt.info())\n",
    "\n",
    "#                No      Pclass         Age       SibSp       Parch        Fare\n",
    "# count  891.000000  891.000000  714.000000  891.000000  891.000000  891.000000\n",
    "# mean   446.000000    2.308642   29.699118    0.523008    0.381594   32.204208\n",
    "# std    257.353842    0.836071   14.526497    1.102743    0.806057   49.693429\n",
    "# min      1.000000    1.000000    0.420000    0.000000    0.000000    0.000000\n",
    "# 25%    223.500000    2.000000   20.125000    0.000000    0.000000    7.910400\n",
    "# 50%    446.000000    3.000000   28.000000    0.000000    0.000000   14.454200\n",
    "# 75%    668.500000    3.000000   38.000000    1.000000    0.000000   31.000000\n",
    "# max    891.000000    3.000000   80.000000    8.000000    6.000000  512.329200\n",
    "\n",
    "# <class 'pandas.core.frame.DataFrame'>\n",
    "# RangeIndex: 891 entries, 0 to 890\n",
    "# Data columns (total 12 columns):\n",
    "#      Column    Non-Null Count  Dtype  \n",
    "# ---  ------    --------------  -----  \n",
    "#  0   No        891 non-null    int64  \n",
    "#  1   Survived  891 non-null    object \n",
    "#  2   Pclass    891 non-null    int64  \n",
    "#  3   Name      891 non-null    object \n",
    "#  4   Sex       891 non-null    object \n",
    "#  5   Age       714 non-null    float64\n",
    "#  6   SibSp     891 non-null    int64  \n",
    "#  7   Parch     891 non-null    int64  \n",
    "#  8   Ticket    891 non-null    object \n",
    "#  9   Fare      891 non-null    float64\n",
    "#  10  Cabin     204 non-null    object \n",
    "#  11  Embarked  889 non-null    object \n",
    "# dtypes: float64(2), int64(4), object(6)\n",
    "# memory usage: 83.7+ KB\n",
    "\n",
    "# The data given seems to be about an accident. Here all the important data including the name, ticket,\n",
    "# cabin and most importantly wheather the person survived or not has been specified. The data is easy to\n",
    "# read and understand.\n",
    "\n",
    "dt.fillna('No Data')\n",
    "dt['Age'].fillna(dt['Age'].mean())\n",
    "\n",
    "dt.rename(columns = {'No' : 'PassengerID'})\n",
    "\n",
    "plot.title('Graph between Age and Survived')\n",
    "plot.bar(dt['Age'], dt['Survived'])\n",
    "plot.xlabel('Age')\n",
    "plot.ylabel('Survived')\n",
    "\n",
    "plot.show()\n",
    "\n",
    "# The graph is mapped between the columns 'Age' and 'Survived'. Since I ahve used the 'plot.bar' function, \n",
    "# the output is also a bar graph. The data is shown properly and its easier to understand now."
   ]
  },
  {
   "cell_type": "code",
   "execution_count": null,
   "id": "d32a9c68",
   "metadata": {},
   "outputs": [],
   "source": []
  }
 ],
 "metadata": {
  "kernelspec": {
   "display_name": "Python 3 (ipykernel)",
   "language": "python",
   "name": "python3"
  },
  "language_info": {
   "codemirror_mode": {
    "name": "ipython",
    "version": 3
   },
   "file_extension": ".py",
   "mimetype": "text/x-python",
   "name": "python",
   "nbconvert_exporter": "python",
   "pygments_lexer": "ipython3",
   "version": "3.11.4"
  }
 },
 "nbformat": 4,
 "nbformat_minor": 5
}
